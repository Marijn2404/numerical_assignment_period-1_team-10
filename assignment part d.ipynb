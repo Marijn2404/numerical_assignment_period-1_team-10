{
 "cells": [
  {
   "cell_type": "code",
   "execution_count": 17,
   "metadata": {},
   "outputs": [],
   "source": [
    "import numpy as np\n",
    "import time\n",
    "from scipy.optimize import ridder\n",
    "\n",
    "def timeit(func):\n",
    "    def wrapper(*arg, **kw):\n",
    "        t1 = time.perf_counter()\n",
    "        res = func(*arg, **kw)\n",
    "        t2 = time.perf_counter()\n",
    "        print(\"{0} took {1}s\".format(func.__name__, (t2 - t1)))\n",
    "        return res\n",
    "    return wrapper\n",
    "\n",
    "arr = np.genfromtxt(\"xdata.txt\")\n",
    "\n",
    "mu_hat = arr.mean()\n",
    "\n",
    "\n",
    "def funderivativel(lambdas, mu, arr):\n",
    "    n = len(arr)\n",
    "    log_likelihoods_derivatives = (n/(2*lambdas)) - (((arr - mu)**2)/((2*mu**2)*arr)).sum()\n",
    "    return log_likelihoods_derivatives"
   ]
  },
  {
   "cell_type": "code",
   "execution_count": 18,
   "metadata": {},
   "outputs": [
    {
     "name": "stdout",
     "output_type": "stream",
     "text": [
      "rootfindscipy took 0.0005708999997295905s\n"
     ]
    },
    {
     "data": {
      "text/plain": [
       "1.477439027305124"
      ]
     },
     "execution_count": 18,
     "metadata": {},
     "output_type": "execute_result"
    }
   ],
   "source": [
    "@timeit\n",
    "def rootfindscipy(f, a, b, args):\n",
    "    return ridder(f, a, b,  args)\n",
    "\n",
    "rootfindscipy(funderivativel, 0.1, 3, (mu_hat, arr))"
   ]
  },
  {
   "cell_type": "code",
   "execution_count": 19,
   "metadata": {},
   "outputs": [
    {
     "name": "stdout",
     "output_type": "stream",
     "text": [
      "bisection took 0.005296199997246731s\n"
     ]
    },
    {
     "data": {
      "text/plain": [
       "1.4774390273041236"
      ]
     },
     "execution_count": 19,
     "metadata": {},
     "output_type": "execute_result"
    }
   ],
   "source": [
    "@timeit\n",
    "def bisection(f, a, b, args, N_MAX, DELTA):\n",
    "    if f(a, *args)*f(b, *args) > 0:\n",
    "        raise Exception(\"f(a)f(b) > 0, This function may not converge\")\n",
    "\n",
    "    n = 0\n",
    "    while n < N_MAX:\n",
    "        c = (b + a) / 2\n",
    "        if f(c, *args) == 0 or c < DELTA:\n",
    "            return c\n",
    "        n += 1\n",
    "\n",
    "        if f(c, *args)*f(a, *args) > 0:\n",
    "            a = c\n",
    "        else:\n",
    "            b = c\n",
    "        \n",
    "    raise Exception(\"No solution could be found\")\n",
    "\n",
    "bisection(funderivativel, 0.1, 3, (mu_hat, arr), 100, 0.001)"
   ]
  }
 ],
 "metadata": {
  "kernelspec": {
   "display_name": "venv",
   "language": "python",
   "name": "python3"
  },
  "language_info": {
   "codemirror_mode": {
    "name": "ipython",
    "version": 3
   },
   "file_extension": ".py",
   "mimetype": "text/x-python",
   "name": "python",
   "nbconvert_exporter": "python",
   "pygments_lexer": "ipython3",
   "version": "3.11.5"
  },
  "orig_nbformat": 4
 },
 "nbformat": 4,
 "nbformat_minor": 2
}
