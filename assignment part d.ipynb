{
 "cells": [
  {
   "cell_type": "code",
   "execution_count": 102,
   "metadata": {},
   "outputs": [],
   "source": [
    "import numpy as np\n",
    "import time\n",
    "from scipy.optimize import ridder\n",
    "\n",
    "SOL_STRING = \"A solution was found in {0} iterations with a-b = {1}, f(c) = {2}\"\n",
    "\n",
    "def timeit(func):\n",
    "    def wrapper(*arg, **kw):\n",
    "        t1 = time.perf_counter()\n",
    "        res = func(*arg, **kw)\n",
    "        t2 = time.perf_counter()\n",
    "        print(\"{0} took {1}s\".format(func.__name__, (t2 - t1)))\n",
    "        return res\n",
    "    return wrapper\n",
    "\n",
    "arr = np.genfromtxt(\"xdata.txt\")\n",
    "\n",
    "mu_hat = arr.mean()\n",
    "\n",
    "\n",
    "def funderivativel(lambdas, mu, arr):\n",
    "    n = len(arr)\n",
    "    log_likelihoods_derivatives = (n/(2*lambdas)) - (((arr - mu)**2)/((2*mu**2)*arr)).sum()\n",
    "    return log_likelihoods_derivatives"
   ]
  },
  {
   "cell_type": "code",
   "execution_count": 103,
   "metadata": {},
   "outputs": [
    {
     "name": "stdout",
     "output_type": "stream",
     "text": [
      "rootfindscipy took 0.0012621000059880316s\n"
     ]
    },
    {
     "data": {
      "text/plain": [
       "(1.477439027305124,\n",
       "       converged: True\n",
       "            flag: converged\n",
       "  function_calls: 14\n",
       "      iterations: 6\n",
       "            root: 1.477439027305124)"
      ]
     },
     "execution_count": 103,
     "metadata": {},
     "output_type": "execute_result"
    }
   ],
   "source": [
    "@timeit\n",
    "def rootfindscipy(f, a, b, args):\n",
    "    return ridder(f, a, b,  args, full_output=True)\n",
    "\n",
    "rootfindscipy(funderivativel, 0.1, 3, (mu_hat, arr))"
   ]
  },
  {
   "cell_type": "code",
   "execution_count": 104,
   "metadata": {},
   "outputs": [
    {
     "name": "stdout",
     "output_type": "stream",
     "text": [
      "A solution was found in 53 iterations with a-b = 4.440892098500626e-16, f(c) = 0.0\n",
      "bisection took 0.004286899988073856s\n"
     ]
    },
    {
     "data": {
      "text/plain": [
       "1.4774390273041236"
      ]
     },
     "execution_count": 104,
     "metadata": {},
     "output_type": "execute_result"
    }
   ],
   "source": [
    "@timeit\n",
    "def bisection(f, a, b, args, N_MAX=1000, DELTA=0.001):\n",
    "    if f(a, *args)*f(b, *args) > 0:\n",
    "        raise Exception(\"f(a)f(b) > 0, This function may not converge\")\n",
    "\n",
    "    n = 0\n",
    "    while n < N_MAX:\n",
    "        c = (b + a) / 2\n",
    "        f_c = f(c, *args)\n",
    "        \n",
    "        if f_c == 0 or abs(c) < DELTA:\n",
    "            print(SOL_STRING.format(n, b-a, f_c))\n",
    "            return c\n",
    "        n += 1\n",
    "\n",
    "        if f_c*f(a, *args) > 0:\n",
    "            a = c\n",
    "        else:\n",
    "            b = c\n",
    "        \n",
    "    raise Exception(\"No solution could be found\")\n",
    "\n",
    "bisection(funderivativel, 0.1, 3, (mu_hat, arr))"
   ]
  },
  {
   "cell_type": "code",
   "execution_count": 105,
   "metadata": {},
   "outputs": [
    {
     "name": "stdout",
     "output_type": "stream",
     "text": [
      "A solution was found in 182 iterations with a-b = 1.3774434227947603, f(c) = -0.0009386849221755256\n",
      "falsepos took 0.009076899994397536s\n"
     ]
    },
    {
     "data": {
      "text/plain": [
       "1.477443125287347"
      ]
     },
     "execution_count": 105,
     "metadata": {},
     "output_type": "execute_result"
    }
   ],
   "source": [
    "@timeit\n",
    "def falsepos(f, a, b, args, N_MAX=1000, DELTA=0.001):\n",
    "    if f(a, *args)*f(b, *args) > 0:\n",
    "        raise Exception(\"f(a)f(b) > 0, This function may not converge\")\n",
    "\n",
    "    n = 0\n",
    "    while n < N_MAX:\n",
    "        f_a = f(a, *args)\n",
    "        f_b = f(b, *args)\n",
    "\n",
    "        c = (a*f_b - b*f_a) / (f_b - f_a)\n",
    "        f_c = f(c, *args)\n",
    "\n",
    "        if f_c == 0 or abs(f_c)<DELTA:\n",
    "            print(SOL_STRING.format(n, b-a, f_c))\n",
    "            return c\n",
    "\n",
    "        if f_a * f_c < 0:\n",
    "            b = c\n",
    "        else:\n",
    "            a = c\n",
    "        \n",
    "        n += 1\n",
    "        \n",
    "    raise Exception(\"No solution could be found\")\n",
    "\n",
    "falsepos(funderivativel, 0.1, 3, (mu_hat, arr), N_MAX=10000)"
   ]
  },
  {
   "cell_type": "code",
   "execution_count": 106,
   "metadata": {},
   "outputs": [
    {
     "name": "stdout",
     "output_type": "stream",
     "text": [
      "A solution was found in 369 iterations with a-b = 1.3774435356494554, f(c) = -0.0009977339789770667\n",
      "modfalsepos took 0.01934510000864975s\n"
     ]
    },
    {
     "data": {
      "text/plain": [
       "1.4774433830764644"
      ]
     },
     "execution_count": 106,
     "metadata": {},
     "output_type": "execute_result"
    }
   ],
   "source": [
    "@timeit\n",
    "def modfalsepos(f, a, b, args, N_MAX=1000, DELTA=0.001):\n",
    "    if f(a, *args)*f(b, *args) > 0:\n",
    "        raise Exception(\"f(a)f(b) > 0, This function may not converge\")\n",
    "\n",
    "    n = 0\n",
    "    while n < N_MAX:\n",
    "        f_a = f(a, *args)\n",
    "        f_b = f(b, *args)\n",
    "\n",
    "        if f_a*f_b < 0:\n",
    "            c = (a*f_b - 2*b*f_a) / (f_b - 2*f_a)\n",
    "        else:\n",
    "            c = (2*a*f_b - b*f_a) / (2*f_b - f_a)\n",
    "        f_c = f(c, *args)\n",
    "\n",
    "        if f_c == 0 or abs(f_c)<DELTA:\n",
    "            print(SOL_STRING.format(n, b-a, f_c))\n",
    "            return c\n",
    "\n",
    "        if f_a * f_c < 0:\n",
    "            b = c\n",
    "        else:\n",
    "            a = c\n",
    "        \n",
    "        n += 1\n",
    "        \n",
    "    raise Exception(\"No solution could be found\")\n",
    "\n",
    "modfalsepos(funderivativel, 0.1, 3, (mu_hat, arr))"
   ]
  }
 ],
 "metadata": {
  "kernelspec": {
   "display_name": "venv",
   "language": "python",
   "name": "python3"
  },
  "language_info": {
   "codemirror_mode": {
    "name": "ipython",
    "version": 3
   },
   "file_extension": ".py",
   "mimetype": "text/x-python",
   "name": "python",
   "nbconvert_exporter": "python",
   "pygments_lexer": "ipython3",
   "version": "3.11.5"
  },
  "orig_nbformat": 4,
  "vscode": {
   "interpreter": {
    "hash": "2bec0cf0b394aaa987c0f89a60dc64ea8a76c39b379ea785fd98883a254c00d9"
   }
  }
 },
 "nbformat": 4,
 "nbformat_minor": 2
}
