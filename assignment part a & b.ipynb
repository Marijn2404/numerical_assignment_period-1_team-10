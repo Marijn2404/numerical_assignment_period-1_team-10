{
 "cells": [
  {
   "cell_type": "code",
   "execution_count": 9,
   "metadata": {},
   "outputs": [],
   "source": [
    "import numpy as np\n",
    "from scipy.integrate import quad\n",
    "import typing\n",
    "import matplotlib.pyplot as plt\n",
    "\n",
    "PARAMS = [{\"lmbda\" : 0.5, \"mu\" : 1}, {\"lmbda\" : 1, \"mu\" : 3}, {\"lmbda\" : 5, \"mu\" : 1}, {\"lmbda\" : 10, \"mu\" : 3}]"
   ]
  },
  {
   "cell_type": "code",
   "execution_count": 10,
   "metadata": {},
   "outputs": [
    {
     "ename": "AttributeError",
     "evalue": "'float' object has no attribute '0f'",
     "output_type": "error",
     "traceback": [
      "\u001b[1;31m---------------------------------------------------------------------------\u001b[0m",
      "\u001b[1;31mAttributeError\u001b[0m                            Traceback (most recent call last)",
      "Cell \u001b[1;32mIn[10], line 12\u001b[0m\n\u001b[0;32m     10\u001b[0m \u001b[39mfor\u001b[39;00m param \u001b[39min\u001b[39;00m PARAMS:\n\u001b[0;32m     11\u001b[0m     y \u001b[39m=\u001b[39m funf(x, \u001b[39m*\u001b[39m\u001b[39m*\u001b[39mparam)\n\u001b[1;32m---> 12\u001b[0m     plt\u001b[39m.\u001b[39mplot(x, y, label\u001b[39m=\u001b[39m\u001b[39mr\u001b[39;49m\u001b[39m'\u001b[39;49m\u001b[39m$\u001b[39;49m\u001b[39m\\\u001b[39;49m\u001b[39mlambda=\u001b[39;49m\u001b[39m{lmbda.0f}\u001b[39;49;00m\u001b[39m, \u001b[39;49m\u001b[39m\\\u001b[39;49m\u001b[39mmu=\u001b[39;49m\u001b[39m{mu}\u001b[39;49;00m\u001b[39m$\u001b[39;49m\u001b[39m'\u001b[39;49m\u001b[39m.\u001b[39;49mformat(\u001b[39m*\u001b[39;49m\u001b[39m*\u001b[39;49mparam))\n\u001b[0;32m     14\u001b[0m plt\u001b[39m.\u001b[39mlegend(loc\u001b[39m=\u001b[39m\u001b[39m\"\u001b[39m\u001b[39mupper right\u001b[39m\u001b[39m\"\u001b[39m)\n\u001b[0;32m     15\u001b[0m plt\u001b[39m.\u001b[39mtitle(\u001b[39m\"\u001b[39m\u001b[39mPart A PDF\u001b[39m\u001b[39m\"\u001b[39m)\n",
      "\u001b[1;31mAttributeError\u001b[0m: 'float' object has no attribute '0f'"
     ]
    }
   ],
   "source": [
    "# FUNCTION f ( x | lambda , mu )\n",
    "def funf(x:float, lmbda:float, mu:float) -> float:\n",
    "    y = np.where(x > 0, np.sqrt(lmbda / (2 * np.pi * x**3)) * np.exp((-lmbda / (2 * mu**2 * x)) * (x - mu)**2), 0)\n",
    "    return y\n",
    "\n",
    "funf(2, 0.5, 1)\n",
    "delta = 0.01\n",
    "x = np.arange(0 + delta, 10, delta)\n",
    "\n",
    "for param in PARAMS:\n",
    "    y = funf(x, **param)\n",
    "    plt.plot(x, y, label=r'$\\lambda={lmbda}, \\mu={mu}$'.format(**param))\n",
    "\n",
    "plt.legend(loc=\"upper right\")\n",
    "plt.title(\"Part A PDF\")\n",
    "plt.xlabel(\"x\")\n",
    "plt.ylabel(\"f(x)\")\n",
    "\n",
    "plt.show()"
   ]
  },
  {
   "cell_type": "code",
   "execution_count": null,
   "metadata": {},
   "outputs": [],
   "source": [
    "def romberg(f:typing.Callable, a:float, b:float, step:int, params:typing.Dict[float, float] = {}) -> float:\n",
    "    if step <= 1:\n",
    "        raise Exception(\"Step must be greater than one!\")\n",
    "    \n",
    "    delta_x = (b - a) / step\n",
    "    x = np.linspace(a, b, step)\n",
    "    y = f(x, **params)\n",
    "    return 0.5 * delta_x * (y[0] + 2 * sum(y[1:-1]) + y[-1])\n",
    "\n",
    "def riemann(f:typing.Callable, a:float, b:float, delta:float, params:typing.Dict[float, float] = {}) -> float:\n",
    "    x = np.arange(a, b, delta)\n",
    "    y = f(x, **params)\n",
    "    return np.sum(y * delta) \n",
    "\n",
    "def f(x):\n",
    "    return -x**2\n",
    "\n"
   ]
  },
  {
   "cell_type": "code",
   "execution_count": null,
   "metadata": {},
   "outputs": [
    {
     "name": "stderr",
     "output_type": "stream",
     "text": [
      "C:\\Users\\Marijn Korthouwer\\AppData\\Local\\Temp\\ipykernel_28804\\1654557807.py:3: RuntimeWarning: divide by zero encountered in divide\n",
      "  y = np.where(x > 0, np.sqrt(lmbda / (2 * np.pi * x**3)) * np.exp((-lmbda / (2 * mu**2 * x)) * (x - mu)**2), 0)\n",
      "C:\\Users\\Marijn Korthouwer\\AppData\\Local\\Temp\\ipykernel_28804\\1654557807.py:3: RuntimeWarning: invalid value encountered in multiply\n",
      "  y = np.where(x > 0, np.sqrt(lmbda / (2 * np.pi * x**3)) * np.exp((-lmbda / (2 * mu**2 * x)) * (x - mu)**2), 0)\n"
     ]
    },
    {
     "name": "stdout",
     "output_type": "stream",
     "text": [
      "0.9999998999976155\n",
      "0.9999999999999998\n",
      "(0.9999999999997695, 6.093919971333443e-10)\n"
     ]
    }
   ],
   "source": [
    "print(romberg(funf, 0, 1000, 10000000, PARAMS[0]))\n",
    "print(riemann(funf, 0, 1000, 0.001, PARAMS[0]))\n",
    "print(quad(funf, 0, 1000, (0.5, 1)))\n"
   ]
  },
  {
   "cell_type": "code",
   "execution_count": null,
   "metadata": {},
   "outputs": [],
   "source": []
  }
 ],
 "metadata": {
  "kernelspec": {
   "display_name": "Python 3",
   "language": "python",
   "name": "python3"
  },
  "language_info": {
   "codemirror_mode": {
    "name": "ipython",
    "version": 3
   },
   "file_extension": ".py",
   "mimetype": "text/x-python",
   "name": "python",
   "nbconvert_exporter": "python",
   "pygments_lexer": "ipython3",
   "version": "3.11.4"
  },
  "orig_nbformat": 4,
  "vscode": {
   "interpreter": {
    "hash": "c5003eeb2378862ea69f36f989e5bafa585a907357f235e5692bfe7a1b2fe747"
   }
  }
 },
 "nbformat": 4,
 "nbformat_minor": 2
}
